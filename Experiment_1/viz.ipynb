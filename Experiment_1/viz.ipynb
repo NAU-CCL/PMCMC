{
 "cells": [
  {
   "cell_type": "code",
   "execution_count": 1,
   "metadata": {},
   "outputs": [],
   "source": [
    "import sys \n",
    "sys.path.append('../')\n",
    "\n",
    "import numpy as np\n",
    "import matplotlib.pyplot as plt\n",
    "\n",
    "from matplotlib.backends.backend_pdf import PdfPages"
   ]
  },
  {
   "cell_type": "code",
   "execution_count": 2,
   "metadata": {},
   "outputs": [
    {
     "ename": "",
     "evalue": "",
     "output_type": "error",
     "traceback": [
      "\u001b[1;31mThe Kernel crashed while executing code in the the current cell or a previous cell. Please review the code in the cell(s) to identify a possible cause of the failure. Click <a href='https://aka.ms/vscodeJupyterKernelCrash'>here</a> for more info. View Jupyter <a href='command:jupyter.viewOutput'>log</a> for further details."
     ]
    }
   ],
   "source": [
    "'''This notebook generates the plots for experiment 1.'''\n",
    "\n",
    "\n",
    "T = 250\n",
    "dt = 0.1\n",
    "t_vec = np.arange(0,T,dt)\n",
    "\n",
    "'''model params''' \n",
    "model_params = {'gamma':1/1000,'L':0.,'D':1/7,'hosp':1/10,'R':1/100,'sig_state':0.005,'lam':1/35,'mean_ou':-1.3,'sig':0.4}\n",
    "\n",
    "param_names = ['hosp','R','mean_ou','sig','lam']\n",
    "\n",
    "for run in range(1,51):\n",
    "    burn_in = 80_000\n",
    "    output = np.load(f'Results/PMCMC_Output_{run}.npz')\n",
    "    \n",
    "    with PdfPages(f'figures/figure_run_{run}.pdf') as pdf:\n",
    "\n",
    "        fig,axs = plt.subplots(nrows = 2,ncols = 4,figsize = (20,10))\n",
    "\n",
    "        \n",
    "        for i in range(3):\n",
    "            axs[0,i].hist(output['accepted_params'][i,burn_in:],bins = 50)\n",
    "            axs[0,i].set_title(f\"{param_names[i]}, Mean: {np.round(np.mean(output['accepted_params'][i,burn_in:]),2)}, std: {np.round(np.std(output['accepted_params'][i,burn_in:]),2)}, Error: {np.round(np.abs(model_params[param_names[i]] - np.mean(output['accepted_params'][i,burn_in:])),2)}\")\n",
    "            axs[0,i].axvline(x = model_params[param_names[i]],color = 'red')\n",
    "\n",
    "        for i in range(2):\n",
    "            axs[1,i].set_title(f\"{param_names[i+3]}, Mean: {np.round(np.mean(output['accepted_params'][i+3,burn_in:]),2)}, std: {np.round(np.std(output['accepted_params'][i+3,burn_in:]),2)}, Error: {np.round(np.abs(model_params[param_names[i+3]] - np.mean(output['accepted_params'][i+3,burn_in:])),2)}\")\n",
    "            axs[1,i].hist(output['accepted_params'][i+3,burn_in:],bins = 50)\n",
    "\n",
    "            axs[1,i].axvline(x = model_params[param_names[i+3]],color = 'red')\n",
    "            axs[1,i].axvline(x = model_params[param_names[i+3]],color = 'red') \n",
    "\n",
    "\n",
    "        axs[0,3].set_title('Simulated $\\\\beta_t$')\n",
    "        axs[0,3].fill_between(t_vec[::int(1/dt)],np.percentile(output['MLE_particle_dist'][:, 4, :].T, 12.5, axis=1),\n",
    "                              np.percentile(output['MLE_particle_dist'][:, 4, :].T, 87.5, axis=1),\n",
    "                              alpha=0.5, color='steelblue')\n",
    "        \n",
    "        axs[0, 3].plot(t_vec, output['betas'], '--', color='black')\n",
    "\n",
    "        axs[1,2].set_title('Log Likelihood')\n",
    "        axs[1,2].plot(output['Log_Likelihood'][burn_in:])\n",
    "\n",
    "        axs[1,3].set_title('Simulated Data')\n",
    "        axs[1,3].fill_between(t_vec[::int(1/dt)],\n",
    "                                      np.percentile(output['MLE_Observation_dist'][:, 0, :].T, 12.5, axis=1),\n",
    "                                      np.percentile(output['MLE_Observation_dist'][:, 0, :].T, 87.5, axis=1),\n",
    "                                      alpha=0.5, color='steelblue')\n",
    "        \n",
    "        axs[1,3].plot(output['data'].T,'--',color = 'black')\n",
    "\n",
    "        # Save the current figure to the PDF\n",
    "        pdf.savefig(fig)  # Save the figure to the PDF\n",
    "        plt.close(fig)    # Close the figure to free up memory\n"
   ]
  }
 ],
 "metadata": {
  "kernelspec": {
   "display_name": ".venv",
   "language": "python",
   "name": "python3"
  },
  "language_info": {
   "codemirror_mode": {
    "name": "ipython",
    "version": 3
   },
   "file_extension": ".py",
   "mimetype": "text/x-python",
   "name": "python",
   "nbconvert_exporter": "python",
   "pygments_lexer": "ipython3",
   "version": "3.11.5"
  }
 },
 "nbformat": 4,
 "nbformat_minor": 2
}
